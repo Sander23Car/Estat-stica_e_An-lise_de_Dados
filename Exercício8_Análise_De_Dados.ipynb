{
  "nbformat": 4,
  "nbformat_minor": 0,
  "metadata": {
    "colab": {
      "name": "Exercício8_Análise_De_Dados.ipynb",
      "provenance": [],
      "authorship_tag": "ABX9TyMbMs9cnfgeNS/617a8ohey",
      "include_colab_link": true
    },
    "kernelspec": {
      "name": "python3",
      "display_name": "Python 3"
    },
    "language_info": {
      "name": "python"
    }
  },
  "cells": [
    {
      "cell_type": "markdown",
      "metadata": {
        "id": "view-in-github",
        "colab_type": "text"
      },
      "source": [
        "<a href=\"https://colab.research.google.com/github/Sander23Car/Estat-stica_e_An-lise_de_Dados/blob/main/Exerc%C3%ADcio8_An%C3%A1lise_De_Dados.ipynb\" target=\"_parent\"><img src=\"https://colab.research.google.com/assets/colab-badge.svg\" alt=\"Open In Colab\"/></a>"
      ]
    },
    {
      "cell_type": "markdown",
      "source": [
        "# **Exercício 8**\n",
        "\n"
      ],
      "metadata": {
        "id": "JbEh4BVkYwDX"
      }
    },
    {
      "cell_type": "markdown",
      "source": [
        "A fórmula completa (incluindo normalização) para a distribuição binormal ou Gaussiana bidiomensional é dada por:\n",
        "\n",
        "\\begin{equation}\n",
        "P (x,y) = \\frac{1}{2\\pi \\sigma_x^2 \\sigma_y^2 \\sqrt{(1-\\rho)^2}} \\times \\text{exp}\\bigg\\{-\\frac{1}{2(1-\\rho^2)}\\bigg[ \\bigg(\\frac{x -\\mu_x}{\\sigma_x} \\bigg)^2 + \\bigg(\\frac{y -\\mu_y}{\\sigma_y} \\bigg)^2 \\bigg] - 2\\rho \\bigg(\\frac{x -\\mu_x}{\\sigma_x} \\bigg)\\bigg(\\frac{y -\\mu_y}{\\sigma_y} \\bigg) \\bigg\\}.\n",
        "\\end{equation}\n",
        "\n"
      ],
      "metadata": {
        "id": "jvdo-5rwY4H9"
      }
    },
    {
      "cell_type": "markdown",
      "source": [
        "## **Solução analítica para a integral**"
      ],
      "metadata": {
        "id": "LOuw-yFlcZYM"
      }
    },
    {
      "cell_type": "markdown",
      "source": [
        "Vamos fazer uma troca conveniente de coordenadas como o fizemos no Exercício 7. Temos:\n",
        "\n",
        "\\begin{equation}\n",
        "P (x,y) = \\frac{1}{2\\pi \\sigma_x \\sigma_y \\sqrt{(1-\\rho^2)}} \\times \\text{exp}\\bigg\\{-\\frac{1}{2}\\bigg[\\frac{1}{(1-\\rho^2)} \\bigg(\\frac{x -\\mu_x}{\\sigma_x} \\bigg)^2 + \\frac{1}{(1-\\rho^2)}\\bigg(\\frac{y -\\mu_y}{\\sigma_y} \\bigg)^2  - 2\\rho \\frac{1}{(1-\\rho^2)}\\bigg(\\frac{x -\\mu_x}{\\sigma_x} \\bigg)\\bigg(\\frac{y -\\mu_y}{\\sigma_y} \\bigg) \\bigg]\\bigg\\}.\n",
        "\\end{equation}\n",
        "\n",
        "Chamando:\n",
        "\n",
        "\\begin{equation}\n",
        "u = \\bigg(\\frac{1}{(1-\\rho^2)}\\bigg)^{\\frac{1}{2}} \\bigg(\\frac{x -\\mu_x}{\\sigma_x} \\bigg) \\hspace{.3cm} \\text{e} \\hspace{.3cm} v = \\bigg(\\frac{1}{(1-\\rho^2)}\\bigg)^{\\frac{1}{2}}\\bigg(\\frac{y -\\mu_y}{\\sigma_y} \\bigg).\n",
        "\\end{equation}\n",
        "\n",
        "e como produto $uv$ é dado por:\n",
        "\n",
        "\\begin{equation}\n",
        "uv = \\frac{1}{(1-\\rho^2)}\\bigg(\\frac{x -\\mu_x}{\\sigma_x} \\bigg)\\bigg(\\frac{y -\\mu_y}{\\sigma_y} \\bigg).\n",
        "\\end{equation}\n",
        "\n",
        "podemos reescrever $P(x,y)$ como:\n",
        "\n",
        "\\begin{equation}\n",
        "\\fbox{$P(u,v) = \\frac{1}{2\\pi \\sigma_x \\sigma_y \\sqrt{(1-\\rho^2)}} \\times \\text{exp}\\bigg\\{-\\frac{1}{2}\\bigg[u^2 +v^2  - 2\\rho uv\\bigg]\\bigg\\}.$}\n",
        "\\end{equation}\n",
        "\n",
        "Temos que a derivada de $u$ com relação a $x$ é dada por:\n",
        "\n",
        "\\begin{equation}\n",
        "\\frac{du}{dx} =\\bigg(\\frac{1}{(1-\\rho^2)}\\bigg)^{\\frac{1}{2}} \\frac{1}{\\sigma_x} ⇒ \\fbox{$ dx = \\sigma_x \\sqrt{(1-\\rho^2)}\\,du.$}\n",
        "\\end{equation}\n",
        "\n",
        "E analogamente a derivada de $v$ com relação a $y$ é:\n",
        "\n",
        "\\begin{equation}\n",
        "\\frac{dv}{dy} =\\bigg(\\frac{1}{(1-\\rho^2)}\\bigg)^{\\frac{1}{2}} \\frac{1}{\\sigma_y} ⇒ \\fbox{$ dy = \\sigma_y\\sqrt{(1-\\rho^2)}\\,dv.$}\n",
        "\\end{equation}\n",
        "\n",
        "Deste modo a integral para essa distribuição fica:\n",
        "\n",
        "\\begin{equation}\n",
        "\\begin{split}\n",
        "P(n\\sigma) & = \\int_{\\Omega_n} P(x,y) \\,dx\\,dy\\\\\n",
        "& = \\int_{\\Omega_n} P(u,v) \\,\\bigg(\\sigma_x \\sqrt{(1-\\rho^2)}\\,du \\bigg) \\bigg(\\sigma_y\\sqrt{(1-\\rho^2)}\\,dv \\bigg)\\\\\n",
        "& = \\int_{\\Omega_n} P(u,v) \\,\\sigma_x  \\sigma_y (1-\\rho^2)\\,du \\,dv .\n",
        "\\end{split}\n",
        "\\end{equation}\n",
        "\n",
        "Substiuindo $P(u,v)$ nessa integração:\n",
        "\n",
        "\\begin{equation}\n",
        "P(n\\sigma) = \\int_{\\Omega_n}\\frac{1}{2\\pi \\sigma_x \\sigma_y \\sqrt{(1-\\rho^2)}} \\times \\text{exp}\\bigg\\{-\\frac{1}{2}\\bigg[u^2 +v^2  - 2\\rho uv\\bigg]\\bigg\\}\\,\\times \\sigma_x  \\sigma_y (1-\\rho^2)\\,du \\,dv. \n",
        "\\end{equation}\n",
        "\n",
        "Simplificando $\\sigma_x\\sigma_y$ pois o temos no numerador e denominador:\n",
        "\n",
        "\\begin{equation}\n",
        "P(n\\sigma) = \\int_{\\Omega_n}\\frac{1}{2\\pi  \\sqrt{(1-\\rho^2)}} \\times \\text{exp}\\bigg\\{-\\frac{1}{2}\\bigg[u^2 +v^2  - 2\\rho uv\\bigg]\\bigg\\}\\,\\times  (1-\\rho^2)\\,du \\,dv.\n",
        "\\end{equation}\n",
        "\n",
        "Podemos reescrever o expoente da exponencial como:\n",
        "\n",
        "**Aqui eu travei e como tava muito tempo nesses cálculos apenas coloquei a resposta que o Eduardo dá na solução dele**\n",
        "\n",
        "Temos:\n",
        "\n",
        "\\begin{equation}\n",
        "\\begin{split}\n",
        "P(n\\sigma) & = \\frac{1}{2} \\int_0^{\\frac{\\chi^2}{(1-\\rho^2)}} \\text{e}^{-\\frac{u}{2}}\\,du\\\\\n",
        " & = \\frac{1}{2} \\frac{\\text{e}^{-\\frac{u}{2}}}{\\big(-\\frac{1}{2}\\big)} \\bigg\\vert_0^{\\frac{\\chi^2}{(1-\\rho^2)}} \\\\\n",
        "  & = - \\big[\\text{e}^{-\\frac{\\chi^2}{2(1-\\rho^2)}} -\\text{e}^{0}\\big]\n",
        "\\end{split}\n",
        "\\end{equation}\n",
        "\n",
        "Por fim:\n",
        "\n",
        "\\begin{equation}\n",
        "\\fbox{$ P(n\\sigma) = 1 -\\text{e}^{-\\frac{\\chi^2}{2(1-\\rho^2)}}.$}\n",
        "\\end{equation}"
      ],
      "metadata": {
        "id": "_Z6MTx-dcoiz"
      }
    },
    {
      "cell_type": "markdown",
      "source": [
        "# **CÓDIGO**"
      ],
      "metadata": {
        "id": "INdGrnBHe1UP"
      }
    },
    {
      "cell_type": "code",
      "source": [
        "# Bibliotecas\n",
        "import numpy as np\n",
        "import scipy as sc\n",
        "import scipy.special as scs\n",
        "import math as mt\n",
        "import matplotlib.pyplot as plt"
      ],
      "metadata": {
        "id": "GVFfH7jCe4df"
      },
      "execution_count": null,
      "outputs": []
    },
    {
      "cell_type": "code",
      "source": [
        "rho =0.5 # Constante\n",
        "n =[1,2,3]\n",
        "\n",
        "num = 1-rho**2\n",
        "\n",
        "for i in n:\n",
        "  P = 1 - np.exp(-(i**2)/(2*num))\n",
        "  print(P)"
      ],
      "metadata": {
        "colab": {
          "base_uri": "https://localhost:8080/"
        },
        "id": "KALj0KvAfAjb",
        "outputId": "e3b0d368-f3f6-4843-a1cb-5b5d4ab97221"
      },
      "execution_count": null,
      "outputs": [
        {
          "output_type": "stream",
          "name": "stdout",
          "text": [
            "0.486582880967408\n",
            "0.9305165487771985\n",
            "0.9975212478233336\n"
          ]
        }
      ]
    },
    {
      "cell_type": "markdown",
      "source": [
        "# **Conclusão:**\n"
      ],
      "metadata": {
        "id": "1Qfwrebn8GAF"
      }
    },
    {
      "cell_type": "markdown",
      "source": [
        "Este resultado nos diz que quanto maior for $n$ melhor eu me aproximo de descrever determinado fenômeno por meio dessa distribuição."
      ],
      "metadata": {
        "id": "WXXET4bG8zds"
      }
    }
  ]
}