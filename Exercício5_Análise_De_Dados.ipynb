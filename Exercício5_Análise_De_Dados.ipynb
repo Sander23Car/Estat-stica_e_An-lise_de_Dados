{
  "nbformat": 4,
  "nbformat_minor": 0,
  "metadata": {
    "colab": {
      "name": "Exercício5_Análise_De_Dados.ipynb",
      "provenance": [],
      "authorship_tag": "ABX9TyMNP0E9S1ge44vK0emvgg0+",
      "include_colab_link": true
    },
    "kernelspec": {
      "name": "python3",
      "display_name": "Python 3"
    },
    "language_info": {
      "name": "python"
    }
  },
  "cells": [
    {
      "cell_type": "markdown",
      "metadata": {
        "id": "view-in-github",
        "colab_type": "text"
      },
      "source": [
        "<a href=\"https://colab.research.google.com/github/Sander23Car/Estat-stica_e_An-lise_de_Dados/blob/main/Exerc%C3%ADcio5_An%C3%A1lise_De_Dados.ipynb\" target=\"_parent\"><img src=\"https://colab.research.google.com/assets/colab-badge.svg\" alt=\"Open In Colab\"/></a>"
      ]
    },
    {
      "cell_type": "markdown",
      "source": [
        "# **DISTRIBUIÇÃO BINOMIAL**\n",
        "\n"
      ],
      "metadata": {
        "id": "LAo4NVweDS8D"
      }
    },
    {
      "cell_type": "markdown",
      "source": [
        "Supondo um experimento que consiste de **dois resultados possíveis** tal como a jogada repetida de uma moeda (cara ou coroa), verificações de qualidade de componentes (aprovado ou reprovado), tratamento de pacientes (morte ou cura), e muitos outros semelhantes. Cada jogada ou extração é chamada uma _**prova**_. Em cada prova em particular há uma probabilidade associada a um determinado evento, tal como o aparecimento de \"cara\" na moeda, etc. Em certos experimentos, a probabilidade não varia de prova para prova (como a jogada de uma moeda, ou de um dado). Tais provas dizem-se então _independentes_ e costumam designar-se como provas de Bernoulli, em homenagem a James Bernoulli, que foi o primeiro a estudá-las no final do século XVII.\n",
        "\n"
      ],
      "metadata": {
        "id": "nc2ysy-KTjj4"
      }
    },
    {
      "cell_type": "markdown",
      "source": [
        "## **Definição da distribuição binomial**"
      ],
      "metadata": {
        "id": "0Yj1vimDiebw"
      }
    },
    {
      "cell_type": "markdown",
      "source": [
        "Denotamos a probabilidade de ocorrência de um evento em uma prova de Bernoulli (chamada de probabilidade de \"sucesso\") como $p$. Então $q=1-p$ é a probabilidade de não-ocorrência do evento (chamada de probabilidade de \"fracasso\"). A probabilidade de o evento ocorrer exatamente $x$ vezes em $n$ provas (i.e., da ocorrência de $x$ sucessos e $n-x$ fracassos) é dada pela seguinte função de probabilidade discreta chamada de **distribuição binomial** (ou distribuição de Bernoulli):\n",
        "\n",
        "\\begin{equation}\n",
        "f(x) = P (X=x) = \\bigg(\\begin{array}{ll} n\\\\ x\\end{array} \\bigg) p^x q^{n-x} =\\frac{n!}{x! (n-x)!} p^x (1-p)^{n-x},\n",
        "\\end{equation}\n",
        "\n",
        "onde a variável aleatória $X$ denota o número de sucessos em $n$ provas, e\n",
        "\n",
        "\\begin{equation}\n",
        "x = 0, 1, 2, ..., n.\n",
        "\\end{equation}\n",
        "\n",
        "E o termo $\\bigg(\\begin{array}{ll} n\\\\ x\\end{array} \\bigg) $, leia $n$ escolha $x$, definido como:\n",
        "\n",
        "\\begin{equation}\n",
        "\\bigg(\\begin{array}{ll} n\\\\ x\\end{array} \\bigg) =\\frac{n!}{x! (n-x)!},\n",
        "\\end{equation}\n",
        "\n",
        "é o chamado **coeficiente binomial**. Ele conta todas as maneiras possíveis de obter $x$ sucessos em $n$ tentativas. Cada sequência individual de $x$ sucessos e $n-x$ fracassos tem probabilidade $p$ pela regra da multiplicação $p^x (1-p)^{n-x}$. Neste aspecto existem $\\bigg(\\begin{array}{ll} n\\\\ x\\end{array} \\bigg) $ dessas sequências. Um exemplo do uso do coeficiente binomial seria o número de possíveis maneiras de escolhermos **duas letras** de um conjunto **de quatro letras** como\n",
        "\n",
        "\\begin{equation}\n",
        "\\{ A, B, C, D\\} ⇒ AB, AC, AD, BC, BD, CD\n",
        "\\end{equation}\n",
        "\n",
        "Usando o coeficiente binomial temos o mesmo resultado:\n",
        "\n",
        "\\begin{equation}\n",
        "\\bigg(\\begin{array}{ll} 4\\\\ 2\\end{array} \\bigg)=\\frac{4!}{2! (4-2)!} =\\frac{4\\cdot3\\cdot2\\cdot1}{2\\cdot 1 (2)!} =\\frac{24}{4} = 6.\n",
        "\\end{equation}\n",
        "\n",
        "Neste caso é evidente que $x=0,1,2,..,n$ coresponde aos termos sucessivos do desenvolvimento binomial. Uma variável aleatória que apresente a distribuição binomial diz-se _distribuída segundo Bernoulli_, ou _distribuída binomialmente_."
      ],
      "metadata": {
        "id": "Tq85dOYxFtzS"
      }
    },
    {
      "cell_type": "markdown",
      "source": [
        "## **Propriedades da distribuição binomial**"
      ],
      "metadata": {
        "id": "qCopqyFOwKvg"
      }
    },
    {
      "cell_type": "markdown",
      "source": [
        "As principais propriedades da distribuição binomial são:\n"
      ],
      "metadata": {
        "id": "nFSvY6G8wQte"
      }
    },
    {
      "cell_type": "markdown",
      "source": [
        "### **Média** ($\\mu$) "
      ],
      "metadata": {
        "id": "RbJFFSXHwbGP"
      }
    },
    {
      "cell_type": "markdown",
      "source": [
        "\\begin{equation}\n",
        "\\mu = np.\n",
        "\\end{equation}"
      ],
      "metadata": {
        "id": "UvYYuGRWwzRa"
      }
    },
    {
      "cell_type": "markdown",
      "source": [
        "### **Variância** ($\\sigma^2$)"
      ],
      "metadata": {
        "id": "A9vJMiMZwnOh"
      }
    },
    {
      "cell_type": "markdown",
      "source": [
        "\\begin{equation}\n",
        "\\sigma^2 = npq,\n",
        "\\end{equation}\n",
        "\n",
        "onde $q=1-p$. Alguns autores de livros de estatística na literatura usam $V(x)$ ao invés de $\\sigma^2$ para denotar a variância."
      ],
      "metadata": {
        "id": "Yx9Phsb7xB0j"
      }
    },
    {
      "cell_type": "markdown",
      "source": [
        "### **Desvio Padrão** ($\\sigma$)"
      ],
      "metadata": {
        "id": "wsuh_-qRxJ5e"
      }
    },
    {
      "cell_type": "markdown",
      "source": [
        "\\begin{equation}\n",
        "\\sigma = \\sqrt{npq},\n",
        "\\end{equation}\n",
        "\n",
        "onde $q=1-p$."
      ],
      "metadata": {
        "id": "EfuG3Y0wxN30"
      }
    },
    {
      "cell_type": "markdown",
      "source": [
        "# **DISTRIBUIÇÃO DE POISSON**"
      ],
      "metadata": {
        "id": "_Z7DB_zwwAGb"
      }
    },
    {
      "cell_type": "markdown",
      "source": [
        "## **Definição da distribuição de Poisson**"
      ],
      "metadata": {
        "id": "wpjd6nzV1pAJ"
      }
    },
    {
      "cell_type": "markdown",
      "source": [
        "Seja $X$ uma variável aleatória discreta que pode tomar os valores $0, 1, 2, 3, ...$, e cuja função de probabilidade é dada por\n",
        "\n",
        "\\begin{equation}\n",
        "f(x) = P (X=x) = \\frac{\\lambda^x \\text{e}^{-\\lambda}}{x!} \\hspace{1cm} x=0, 1, 2, ...\n",
        "\\end{equation}\n",
        "\n",
        "onde $\\lambda$ é uma constante positiva dada. Tal distribuição recebe o nome de **distribuição de Poisson**, em homenagem a S.D. Poisson, que a descobriu e a estudou rigorosamente na primeira parte do século XIX."
      ],
      "metadata": {
        "id": "lpbScvACwFDb"
      }
    },
    {
      "cell_type": "markdown",
      "source": [
        "## **Propriedades da distribuição de Poisson**"
      ],
      "metadata": {
        "id": "AgK7af0rzP0O"
      }
    },
    {
      "cell_type": "markdown",
      "source": [
        "### **Média** ($\\mu$)"
      ],
      "metadata": {
        "id": "2BWc9hIc0ahl"
      }
    },
    {
      "cell_type": "markdown",
      "source": [
        "\\begin{equation}\n",
        "\\mu = \\lambda.\n",
        "\\end{equation}"
      ],
      "metadata": {
        "id": "uZGJPOnw0jYy"
      }
    },
    {
      "cell_type": "markdown",
      "source": [
        "### **Variância** ($\\sigma^2$)"
      ],
      "metadata": {
        "id": "KgMHq8XD0uoT"
      }
    },
    {
      "cell_type": "markdown",
      "source": [
        "\\begin{equation}\n",
        "\\sigma^2 = \\lambda.\n",
        "\\end{equation}"
      ],
      "metadata": {
        "id": "RYZGiEU201_z"
      }
    },
    {
      "cell_type": "markdown",
      "source": [
        "### **Desvio Padrão** ($\\sigma$)"
      ],
      "metadata": {
        "id": "XUU_XIoX0_4i"
      }
    },
    {
      "cell_type": "markdown",
      "source": [
        "\\begin{equation}\n",
        "\\sigma = \\sqrt{\\lambda}.\n",
        "\\end{equation}"
      ],
      "metadata": {
        "id": "a8HieUpn1GxR"
      }
    },
    {
      "cell_type": "markdown",
      "source": [
        "# **RELAÇÃO ENTRE AS DISTRIBUIÇÕES BINOMIAL E DE POISSON**"
      ],
      "metadata": {
        "id": "vOlD8JUQ1QmB"
      }
    },
    {
      "cell_type": "markdown",
      "source": [
        "Na distribuição binomial, se $n$ é grande, mas a probabilidade de $p$ (sucesso) de ocorrência de um evento é vizinha de zero, de modo que $q = 1-p$, é próximo de $1$, o evento se diz um _**evento raro**_. Na prática consideramos como raro um evento se o número de provas é no mínimo $50$ e $np$ é menor do que $5$. Em tais casos, a distribuição binomial é muito aproximada pela distribuição de Poisson com $\\lambda =np$. Esse resultado já é esperado, pois, fazendo $\\lambda =np$, $q \\approx 1$ e $p \\approx 0$ nas propriedades da distribuição binomial obtemos as propriedades da distribuição de Poisson."
      ],
      "metadata": {
        "id": "3dbKQ4pr1bc5"
      }
    },
    {
      "cell_type": "markdown",
      "source": [
        "#**CÓDIGOS**"
      ],
      "metadata": {
        "id": "sPwCMot-v6F6"
      }
    },
    {
      "cell_type": "code",
      "source": [
        "# Bibliotecas\n",
        "import numpy as np\n",
        "import scipy as sc\n",
        "import scipy.special as scs\n",
        "import math as mt\n",
        "import matplotlib.pyplot as plt"
      ],
      "metadata": {
        "id": "UZkeN3Ji3fZZ"
      },
      "execution_count": 2,
      "outputs": []
    },
    {
      "cell_type": "code",
      "source": [
        "n = [10, 100, 1000, 10000] # Valores de n\n",
        "\n",
        "p_distbinomial =[ ] # Pontos da distribuição binomial\n",
        "p_distpoisson = [ ] # Pontos da distribuição de Poisson\n",
        "\n",
        "lamb = 4\n",
        "\n",
        "for i in range(np.size(n)):\n",
        "    pp = np.random.poisson(lamb, n[i])\n",
        "    p_distpoisson.append(pp)\n",
        "    p = lamb/n[i]\n",
        "    b = np.random.binomial(n[i],p,n[i])\n",
        "    p_distbinomial.append(b)\n",
        "       \n",
        "# Histogramas das distribuições binomial e de Poisson       \n",
        "    plt.hist(p_distbinomial[i], color='green', label = f'Poisson para n = {n[i]}') # Gera histograma referente a distribuição binomial na cor verde para comparação com a distribuição de Poisson.\n",
        "    plt.hist(p_distpoisson[i],color='blue', label = f'Binomial para n= {n[i]}') # Gera histograma referente a distribuição de Poisson na cor azul para comparação com a distribuição binomial.\n",
        "    plt.legend()\n",
        "    plt.show()\n",
        "    \n"
      ],
      "metadata": {
        "colab": {
          "base_uri": "https://localhost:8080/",
          "height": 1000
        },
        "id": "xFbXtrjwaaOX",
        "outputId": "25784767-6b34-4bcc-9400-3ed9850f8a6b"
      },
      "execution_count": 14,
      "outputs": [
        {
          "output_type": "display_data",
          "data": {
            "text/plain": [
              "<Figure size 432x288 with 1 Axes>"
            ],
            "image/png": "[encoded data removed]"
          },
          "metadata": {
            "needs_background": "light"
          }
        },
        {
          "output_type": "display_data",
          "data": {
            "text/plain": [
              "<Figure size 432x288 with 1 Axes>"
            ],
            "image/png": "[encoded data removed]"
          },
          "metadata": {
            "needs_background": "light"
          }
        },
        {
          "output_type": "display_data",
          "data": {
            "text/plain": [
              "<Figure size 432x288 with 1 Axes>"
            ],
            "image/png": "[encoded data removed]"
          },
          "metadata": {
            "needs_background": "light"
          }
        },
        {
          "output_type": "display_data",
          "data": {
            "text/plain": [
              "<Figure size 432x288 with 1 Axes>"
            ],
            "image/png": "[encoded data removed]"
          },
          "metadata": {
            "needs_background": "light"
          }
        }
      ]
    },
    {
      "cell_type": "markdown",
      "source": [
        "## **CONCLUSÃO**: \n",
        "Quanto maior o valor de $n$ mais a distribuição binomial pode ser aproximada por uma distribuição de Poisson."
      ],
      "metadata": {
        "id": "RzVbQH9u-wlW"
      }
    }
  ]
}