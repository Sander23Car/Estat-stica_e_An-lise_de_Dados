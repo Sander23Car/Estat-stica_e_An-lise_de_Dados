{
  "nbformat": 4,
  "nbformat_minor": 0,
  "metadata": {
    "colab": {
      "name": "Untitled0.ipynb",
      "provenance": [],
      "authorship_tag": "ABX9TyN9xnZOYcrMpDm2OVbwfmOV",
      "include_colab_link": true
    },
    "kernelspec": {
      "name": "python3",
      "display_name": "Python 3"
    },
    "language_info": {
      "name": "python"
    }
  },
  "cells": [
    {
      "cell_type": "markdown",
      "metadata": {
        "id": "view-in-github",
        "colab_type": "text"
      },
      "source": [
        "<a href=\"https://colab.research.google.com/github/Sander23Car/Estat-stica_e_An-lise_de_Dados/blob/main/Interepolation.ipynb\" target=\"_parent\"><img src=\"https://colab.research.google.com/assets/colab-badge.svg\" alt=\"Open In Colab\"/></a>"
      ]
    },
    {
      "cell_type": "markdown",
      "source": [
        "# **Interpolação**"
      ],
      "metadata": {
        "id": "1mRYL-HUoft2"
      }
    },
    {
      "cell_type": "markdown",
      "source": [
        "Para usarmos o método de interpolação precisaremos de uma função gaussiana da forma:\n",
        "\n",
        "$$ G(x_{i}) = \\frac{1}{\\sqrt{2\\pi \\sigma^{2}}}e^{-\\frac{(x_{i}-\\mu)^2}{2\\sigma^2}}\\, .$$"
      ],
      "metadata": {
        "id": "MwnGUrIfoixH"
      }
    },
    {
      "cell_type": "code",
      "execution_count": 1,
      "metadata": {
        "colab": {
          "base_uri": "https://localhost:8080/",
          "height": 296
        },
        "id": "qv6k0olQoc4L",
        "outputId": "d090823d-3b74-4bdd-b049-16d16f8ed09d"
      },
      "outputs": [
        {
          "output_type": "execute_result",
          "data": {
            "text/plain": [
              "Text(0, 0.5, 'Densidade de probabilidade')"
            ]
          },
          "metadata": {},
          "execution_count": 1
        },
        {
          "output_type": "display_data",
          "data": {
            "text/plain": [
              "<Figure size 432x288 with 1 Axes>"
            ],
            "image/png": "[encoded data removed]"
          },
          "metadata": {
            "needs_background": "light"
          }
        }
      ],
      "source": [
        "# Curva Gaussiana\n",
        "#Objetivo: Calcular uma função gaussiana a partir de uma série de dados n vezes\n",
        "#Data de criação: 19/03/2022\n",
        "#Criador: RIBEIRO, S. C.\n",
        "#Email: San.Car.Oficial@gmail.com\n",
        "\n",
        "# Bibliotecas\n",
        "import numpy as np  #Importando a biblioteca numpy\n",
        "import matplotlib.pyplot as plt #Importando a biblioteca numpy matplotlib.pyplot para plotagem de gráficos\n",
        " \n",
        "# Criação de uma série de dados variados de 1 a 50. Dados randômicos.\n",
        "n = 500\n",
        "x = np.linspace(1,50,n) \n",
        "#\n",
        " \n",
        "#Definição da função gaussiana\n",
        "def gaussian(x , mean , sd):\n",
        "    prob_density = (np.sqrt(2*np.pi)*sd) * np.exp(-0.5*((x-mean)/sd)**2)\n",
        "    return prob_density\n",
        " \n",
        "#Cálculo da média e do desvio padrão.\n",
        "mean = np.mean(x)\n",
        "sd = np.std(x)\n",
        " \n",
        "#Aplicar a função aos dados.\n",
        "y = gaussian(x,mean,sd)\n",
        " \n",
        "#Plot dos resultados\n",
        "plt.plot(x, y, color = 'red')\n",
        "plt.xlabel('Pontos de dados')\n",
        "plt.ylabel('Densidade de probabilidade')"
      ]
    },
    {
      "cell_type": "markdown",
      "source": [
        "Tendo essa função em mãos podemos agora definir sua interpolação linear"
      ],
      "metadata": {
        "id": "gsORhG3uqGKm"
      }
    }
  ]
}