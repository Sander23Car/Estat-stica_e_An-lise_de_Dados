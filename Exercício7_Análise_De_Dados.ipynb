{
  "nbformat": 4,
  "nbformat_minor": 0,
  "metadata": {
    "colab": {
      "name": "Exercício7_Análise_De_Dados.ipynb",
      "provenance": [],
      "authorship_tag": "ABX9TyNKV8TnaQ0vjKPhJmZnXSbX",
      "include_colab_link": true
    },
    "kernelspec": {
      "name": "python3",
      "display_name": "Python 3"
    },
    "language_info": {
      "name": "python"
    }
  },
  "cells": [
    {
      "cell_type": "markdown",
      "metadata": {
        "id": "view-in-github",
        "colab_type": "text"
      },
      "source": [
        "<a href=\"https://colab.research.google.com/github/Sander23Car/Estat-stica_e_An-lise_de_Dados/blob/main/Exerc%C3%ADcio7_An%C3%A1lise_De_Dados.ipynb\" target=\"_parent\"><img src=\"https://colab.research.google.com/assets/colab-badge.svg\" alt=\"Open In Colab\"/></a>"
      ]
    },
    {
      "cell_type": "markdown",
      "source": [
        "# **Exercício 7**"
      ],
      "metadata": {
        "id": "REI6qzjN3Qmm"
      }
    },
    {
      "cell_type": "markdown",
      "source": [
        "Dada a Gaussiana multivariada\n",
        "\n",
        "\\begin{equation}\n",
        "P(x,y) =\\frac{ \\text{e}^{-\\frac{1}{2} \\big(\\frac{x-\\mu_x}{\\sigma_x}\\big)^2 -\\frac{1}{2} \\big(\\frac{y-\\mu_y}{\\sigma_y}\\big)^2}}{2\\pi \\sigma_x \\sigma_y},\n",
        "\\end{equation}\n",
        "\n",
        "vamos renomear o expoente como\n",
        "\n",
        "\\begin{equation}\n",
        "\\chi^2 =\\bigg(\\frac{x-\\mu_x}{\\sigma_x}\\bigg)^2 + \\bigg(\\frac{y-\\mu_y}{\\sigma_y}\\bigg)^2.\n",
        "\\end{equation}\n",
        "\n",
        "Dado intervalos $\\Omega_n$ definidos por $\\chi^2 \\leq n^2, n =1, 2, 3$, calcule\n",
        "\n",
        "\\begin{equation}\n",
        "P(n\\sigma) \\equiv \\int_{\\Omega_n} P(x,y) \\,dx\\,dy.\n",
        "\\end{equation}"
      ],
      "metadata": {
        "id": "YI64Fekj3WlY"
      }
    },
    {
      "cell_type": "markdown",
      "source": [
        "# **Solução Analítica Exercício 7**"
      ],
      "metadata": {
        "id": "77NmO1D75Ph1"
      }
    },
    {
      "cell_type": "markdown",
      "source": [
        "O exercício nos fornece a seguinte Gaussiana multivariada:\n",
        "\n",
        "\\begin{equation}\n",
        "P(x,y) =\\frac{ \\text{e}^{-\\frac{1}{2}\\chi^2}}{2\\pi \\sigma_x \\sigma_y}.\n",
        "\\end{equation}\n",
        "\n",
        "onde:\n",
        "\n",
        "\\begin{equation}\n",
        "\\chi^2 = \\bigg(\\frac{x-\\mu_x}{\\sigma_x}\\bigg)^2 + \\bigg(\\frac{y-\\mu_y}{\\sigma_y}\\bigg)^2.\n",
        "\\end{equation}\n",
        "\n",
        "E pede para calcularmos\n",
        "\n",
        "\\begin{equation}\n",
        "P(n\\sigma) \\equiv \\int_{\\Omega_n} P(x,y) \\,dx\\,dy.\n",
        "\\end{equation}\n",
        "\n",
        "Essa integral pode ser resolvida analiticamente em coordenadas polares se considerarmos $\\chi$ como sendo o raio de uma circunferência. Neste caso basta fazermos a seguinte troca de variável:\n",
        "\n",
        "\\begin{equation}\n",
        "\\fbox{$u = \\frac{x - \\mu_x}{\\sigma_x}$} \\hspace{.3cm} \\text{e} \\hspace{.3cm} \\fbox{$v = \\frac{y - \\mu_y}{\\sigma_y}.$}\n",
        "\\end{equation}\n",
        "\n",
        "Logo:\n",
        "\n",
        "\\begin{equation}\n",
        "\\chi^2 = \\bigg(\\frac{x-\\mu_x}{\\sigma_x}\\bigg)^2 + \\bigg(\\frac{y-\\mu_y}{\\sigma_y}\\bigg)^2  = u^2 + v^2 = r^{\\prime 2}.\n",
        "\\end{equation}\n",
        "\n",
        "Neste caso temos que a derivada de $u$ com relação à $x$ nos fornece a seguinte relação:\n",
        "\n",
        "\\begin{equation}\n",
        "\\frac{du}{dx} = \\frac{d}{dx}\\bigg( \\frac{x - \\mu_x}{\\sigma_x}\\bigg) = \\frac{1}{\\sigma_x} ⇒ \\fbox{$dx = \\sigma_x du,$}\n",
        "\\end{equation}\n",
        "\n",
        "considerando $\\mu_x$ constante. Analogamente, a derivada de $v$ com relação a $y$ nos fornece:\n",
        "\n",
        "\\begin{equation}\n",
        "\\frac{dv}{dy} = \\frac{d}{dy}\\bigg( \\frac{y - \\mu_y}{\\sigma_y}\\bigg) = \\frac{1}{\\sigma_y} ⇒ \\fbox{$dy = \\sigma_y dv,$}\n",
        "\\end{equation}\n",
        "\n",
        "tal que podemos sempre retornar ao sistema de coordenadas cartesiano se fizermos a conversão de coordenadas polares $r$ e $\\theta$ para cartesianas $x$ e $y$ usando-se as funções trigonométricas seno e cosseno:\n",
        "\n",
        "\\begin{equation}\n",
        "u = r^\\prime\\cos \\theta^\\prime\\hspace{.3cm} \\text{e} \\hspace{.3cm} v= r^\\prime\\sin \\theta^\\prime.\n",
        "\\end{equation}\n",
        "\n",
        "Nossa integral fica em coordenadas polares na seguinte forma:\n",
        "\n",
        "\\begin{equation}\n",
        "\\begin{split}\n",
        "P (n\\sigma) & = \\int_{\\Omega_n} \\frac{ \\text{e}^{-\\frac{1}{2}\\chi^2}}{2\\pi \\sigma_x \\sigma_y} \\,dx\\,dy \\\\& = \\int_{\\Omega_n} \\frac{ \\text{e}^{-\\frac{1}{2}(u^2 +v^2)}}{2\\pi \\sigma_x \\sigma_y} \\,\\sigma_x du\\,\\sigma_y dv\\\\ &= \\int_0^{2\\pi} \\int_0^r \\frac{\\text{e}^{-\\frac{r^{\\prime 2}}{2}}}{2\\pi} r^\\prime dr^\\prime d\\theta^\\prime.\n",
        "\\end{split}\n",
        "\\end{equation}\n",
        "\n",
        "A integração com relação à $\\theta$ resulta em:\n",
        "\n",
        "\\begin{equation}\n",
        "\\begin{split}\n",
        "P (n\\sigma) & =  \\int_0^r \\frac{\\text{e}^{-\\frac{r^{\\prime 2}}{2}}}{2\\pi} r^\\prime \\,dr^\\prime\\bigg[\\int_0^{2\\pi}\\,d\\theta^\\prime\\bigg]\\\\\n",
        "& =  \\int_0^r \\frac{\\text{e}^{-\\frac{r^{\\prime 2}}{2}}}{2\\pi} r^\\prime dr^\\prime[2\\pi]\\\\\n",
        "& =  \\int_0^r \\text{e}^{-\\frac{r^{\\prime 2}}{2}} r^\\prime dr^\\prime\n",
        "\\end{split}\n",
        "\\end{equation}\n",
        "\n",
        "Podemos calcular facilmente essa integral pelo método de substituição. Se:\n",
        "\n",
        "\\begin{equation}\n",
        "w =r^{\\prime 2} ⇒ \\frac{dw}{dr^\\prime} =2 r^\\prime ⇒ \\fbox{$r^\\prime dr^\\prime = \\frac{dw}{2},$}\n",
        "\\end{equation}\n",
        "\n",
        "E os limites de integração inferior para $r^\\prime =0$ e superior para $r^\\prime = r^\\prime$ fornecem, de acordo com essa troca, os seguintes resultados, $w_i = 0$ e $w_s = r^{\\prime 2} = \\chi^2$. Então temos:\n",
        "\n",
        "\\begin{equation}\n",
        "\\begin{split}\n",
        "P (n\\sigma) & =  \\int_0^{\\chi^2} \\text{e}^{-\\frac{w}{2}} \\frac{dw}{2}\\\\\n",
        "& =  \\frac{1}{2}\\frac{\\text{e}^{-\\frac{w}{2}}}{-\\frac{1}{2}} \\bigg\\vert_0^{\\chi^2}\\\\& = -[\\text{e}^{-\\frac{\\chi^2}{2}}  -\\text{e}^{-\\frac{0}{2}}].\n",
        "\\end{split}\n",
        "\\end{equation}\n",
        "\n",
        "Por fim:\n",
        "\n",
        "\\begin{equation}\n",
        "\\fbox{$P (n\\sigma) = 1 -\\text{e}^{-\\frac{\\chi^2}{2}}.$}\n",
        "\\end{equation}"
      ],
      "metadata": {
        "id": "vKL8Nzlf5W62"
      }
    },
    {
      "cell_type": "markdown",
      "source": [
        "O exercício pede para calcularmos essa integral para $n=1,2,3$ considerando $\\chi^2 \\leq n^2$."
      ],
      "metadata": {
        "id": "RzOsBCBpGq6r"
      }
    },
    {
      "cell_type": "markdown",
      "source": [
        "# **CÓDIGO**"
      ],
      "metadata": {
        "id": "vNOgpGUG4wNG"
      }
    },
    {
      "cell_type": "code",
      "source": [
        "# Bibliotecas\n",
        "import numpy as np\n",
        "import scipy as sc\n",
        "import scipy.special as scs\n",
        "import math as mt\n",
        "import matplotlib.pyplot as plt"
      ],
      "metadata": {
        "id": "VIA8MiQAH9BY"
      },
      "execution_count": 1,
      "outputs": []
    },
    {
      "cell_type": "code",
      "source": [
        "n =[1,2,3]\n",
        "\n",
        "for i in n:\n",
        "  P = 1 - np.exp(-(i**2)/2)\n",
        "  print(P)"
      ],
      "metadata": {
        "colab": {
          "base_uri": "https://localhost:8080/"
        },
        "id": "cI7bxyIzIEWR",
        "outputId": "36223168-db6f-4f93-96b1-f2f86a636d15"
      },
      "execution_count": 3,
      "outputs": [
        {
          "output_type": "stream",
          "name": "stdout",
          "text": [
            "0.3934693402873666\n",
            "0.8646647167633873\n",
            "0.9888910034617577\n"
          ]
        }
      ]
    }
  ]
}